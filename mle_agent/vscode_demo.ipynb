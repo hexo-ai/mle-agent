{
 "cells": [
  {
   "cell_type": "code",
   "execution_count": 1,
   "metadata": {},
   "outputs": [],
   "source": [
    "import os\n",
    "\n",
    "from dotenv import load_dotenv"
   ]
  },
  {
   "cell_type": "code",
   "execution_count": 2,
   "metadata": {},
   "outputs": [],
   "source": [
    "load_dotenv() \n",
    "OPENAI_API_KEY = os.getenv('OPENAI_API_KEY')"
   ]
  },
  {
   "cell_type": "code",
   "execution_count": 3,
   "metadata": {},
   "outputs": [],
   "source": [
    "user_instruction = \"First write a python function to read two images from their paths. The images are foreground and background images. \\\n",
    "                    Next using that function read the images, background image from path 'background_image.png' and the foreground image from 'foreground_image.png'\""
   ]
  },
  {
   "cell_type": "code",
   "execution_count": 4,
   "metadata": {},
   "outputs": [],
   "source": [
    "import ipynbname\n",
    "from bs4 import BeautifulSoup"
   ]
  },
  {
   "cell_type": "code",
   "execution_count": 5,
   "metadata": {},
   "outputs": [],
   "source": [
    "import nbformat\n",
    "import nbconvert\n",
    "\n",
    "def remove_images_from_notebook(notebook_content):\n",
    "    \"\"\"Removes image outputs from the notebook content.\"\"\"\n",
    "    for cell in notebook_content.cells:\n",
    "        if cell.cell_type == 'code':\n",
    "            cell.outputs = [output for output in cell.outputs if not (output.output_type == 'display_data' and 'image' in output.data)]\n",
    "    return notebook_content\n",
    "\n",
    "def save_notebook_as_html(notebook_name):\n",
    "    # Load the notebook\n",
    "    notebook_filename = f'{notebook_name}.ipynb'\n",
    "    with open(notebook_filename, 'r', encoding='utf-8') as f:\n",
    "        notebook_content = nbformat.read(f, as_version=4)\n",
    "    \n",
    "    # Remove images from the notebook\n",
    "    notebook_content_no_images = remove_images_from_notebook(notebook_content)\n",
    "    \n",
    "    # Create an HTML exporter with the 'basic' template\n",
    "    html_exporter = nbconvert.HTMLExporter()\n",
    "    html_exporter.template_name = 'basic'\n",
    "    \n",
    "    # Convert to HTML\n",
    "    html_data, resources = html_exporter.from_notebook_node(notebook_content_no_images)\n",
    "    \n",
    "    # Save the HTML file\n",
    "    # html_filename = f'{notebook_name}.html'\n",
    "    # with open(html_filename, 'w', encoding='utf-8') as f:\n",
    "    #     f.write(html_data)\n",
    "\n",
    "    import tempfile\n",
    "\n",
    "    with tempfile.NamedTemporaryFile(mode='w', delete=False, suffix='.html', encoding='utf-8') as temp_file:\n",
    "        temp_file.write(html_data)\n",
    "        temp_filename = temp_file.name\n",
    "    return temp_filename"
   ]
  },
  {
   "cell_type": "code",
   "execution_count": 6,
   "metadata": {},
   "outputs": [],
   "source": [
    "def extract_inputs_outputs_from_html(html_file_path):\n",
    "    with open(html_file_path, \"r\", encoding=\"utf-8\") as file:\n",
    "        html_content = file.read()\n",
    "    soup = BeautifulSoup(html_content, 'html.parser')\n",
    "    code_cells = soup.select('div.jp-Cell.jp-CodeCell.jp-Notebook-cell')\n",
    "    inputs_outputs = []\n",
    "    for cell in code_cells:\n",
    "        input_div = cell.select_one('div.jp-InputArea.jp-Cell-inputArea')\n",
    "        input_code = input_div.select_one('pre').text if input_div and input_div.select_one('pre') else None\n",
    "        output_div = cell.select_one('div.jp-OutputArea.jp-Cell-outputArea')\n",
    "        output_code = output_div.select_one('pre').text if output_div and output_div.select_one('pre') else None\n",
    "        inputs_outputs.append({\n",
    "            \"input\": input_code,\n",
    "            \"output\": output_code\n",
    "        })\n",
    "    return inputs_outputs"
   ]
  },
  {
   "cell_type": "code",
   "execution_count": 7,
   "metadata": {},
   "outputs": [],
   "source": [
    "from pathlib import Path\n",
    "from IPython import get_ipython\n",
    "\n",
    "path = None\n",
    "if '__vsc_ipynb_file__' in get_ipython().user_ns:\n",
    "    current_file_path = Path(get_ipython().user_ns['__vsc_ipynb_file__'])"
   ]
  },
  {
   "cell_type": "code",
   "execution_count": 8,
   "metadata": {},
   "outputs": [],
   "source": [
    "from IPython.display import display, Javascript\n",
    "\n",
    "def save_notebook():\n",
    "    display(Javascript('IPython.notebook.save_checkpoint();'))"
   ]
  },
  {
   "cell_type": "code",
   "execution_count": 24,
   "metadata": {},
   "outputs": [],
   "source": [
    "import time"
   ]
  },
  {
   "cell_type": "code",
   "execution_count": 79,
   "metadata": {},
   "outputs": [],
   "source": [
    "import os\n",
    "import sys"
   ]
  },
  {
   "cell_type": "code",
   "execution_count": 80,
   "metadata": {},
   "outputs": [],
   "source": [
    "save_notebook()\n",
    "time.sleep(2)\n",
    "notebook_name = Path(current_file_path).stem\n",
    "temp_filename = save_notebook_as_html(notebook_name)\n",
    "extracted_cells = extract_inputs_outputs_from_html(f\"{temp_filename}\")"
   ]
  },
  {
   "cell_type": "code",
   "execution_count": 81,
   "metadata": {},
   "outputs": [
    {
     "data": {
      "text/plain": [
       "{'input': 'import os\\nimport sys\\n', 'output': None}"
      ]
     },
     "execution_count": 81,
     "metadata": {},
     "output_type": "execute_result"
    }
   ],
   "source": [
    "extracted_cells[9]"
   ]
  },
  {
   "cell_type": "code",
   "execution_count": 82,
   "metadata": {},
   "outputs": [],
   "source": [
    "import ipywidgets as widgets\n",
    "from IPython.display import display"
   ]
  },
  {
   "cell_type": "code",
   "execution_count": 88,
   "metadata": {},
   "outputs": [],
   "source": [
    "textarea = widgets.Textarea(\n",
    "    value='',\n",
    "    placeholder='Type something',\n",
    "    description='User Input:',\n",
    "    disabled=False,\n",
    "    rows=5,  # Number of rows for height\n",
    "    layout=widgets.Layout(width='70%')  # Set width as a percentage or in pixels (e.g., '500px')\n",
    ")"
   ]
  },
  {
   "cell_type": "code",
   "execution_count": 89,
   "metadata": {},
   "outputs": [
    {
     "data": {
      "application/vnd.jupyter.widget-view+json": {
       "model_id": "450374c36658486da1730cf5f67e29bd",
       "version_major": 2,
       "version_minor": 0
      },
      "text/plain": [
       "Textarea(value='', description='User Input:', layout=Layout(width='70%'), placeholder='Type something', rows=5…"
      ]
     },
     "metadata": {},
     "output_type": "display_data"
    }
   ],
   "source": [
    "display(textarea)"
   ]
  },
  {
   "cell_type": "code",
   "execution_count": 87,
   "metadata": {},
   "outputs": [
    {
     "name": "stdout",
     "output_type": "stream",
     "text": [
      "Let me know how this is.\n"
     ]
    }
   ],
   "source": [
    "user_input = textarea.value\n",
    "print(user_input)"
   ]
  },
  {
   "cell_type": "code",
   "execution_count": null,
   "metadata": {},
   "outputs": [],
   "source": []
  }
 ],
 "metadata": {
  "kernelspec": {
   "display_name": "Python 3 (ipykernel)",
   "language": "python",
   "name": "python3"
  },
  "language_info": {
   "codemirror_mode": {
    "name": "ipython",
    "version": 3
   },
   "file_extension": ".py",
   "mimetype": "text/x-python",
   "name": "python",
   "nbconvert_exporter": "python",
   "pygments_lexer": "ipython3",
   "version": "3.10.12"
  }
 },
 "nbformat": 4,
 "nbformat_minor": 4
}
